{
 "cells": [
  {
   "cell_type": "markdown",
   "metadata": {},
   "source": [
    "# Random Forest Demo"
   ]
  },
  {
   "cell_type": "markdown",
   "metadata": {},
   "source": [
    "See [official documentation](http://scikit-learn.org/stable/modules/generated/sklearn.ensemble.RandomForestClassifier.html) for more details of RandomForestClassifier."
   ]
  },
  {
   "cell_type": "code",
   "execution_count": 4,
   "metadata": {
    "collapsed": true
   },
   "outputs": [],
   "source": [
    "%matplotlib inline"
   ]
  },
  {
   "cell_type": "code",
   "execution_count": 5,
   "metadata": {
    "collapsed": true
   },
   "outputs": [],
   "source": [
    "import matplotlib.pylab as pylab\n",
    "pylab.rcParams['figure.figsize'] = (10, 6)"
   ]
  },
  {
   "cell_type": "code",
   "execution_count": 7,
   "metadata": {
    "collapsed": false
   },
   "outputs": [
    {
     "data": {
      "image/png": "[encoded data removed]",
      "text/plain": [
       "<matplotlib.figure.Figure at 0x8bba048>"
      ]
     },
     "metadata": {},
     "output_type": "display_data"
    }
   ],
   "source": [
    "import numpy as np\n",
    "import matplotlib.pyplot as plt\n",
    "\n",
    "from sklearn.datasets import load_iris\n",
    "from sklearn.ensemble import RandomForestClassifier\n",
    "\n",
    "np.seterr(divide='ignore', invalid='ignore')\n",
    "ntree = 20\n",
    "# load data\n",
    "iris = load_iris()\n",
    "x_train = iris.data\n",
    "y_train = iris.target\n",
    "\n",
    "# create model and train\n",
    "errors = []\n",
    "growing_rf = RandomForestClassifier(n_estimators=1, n_jobs=-1, oob_score=True,\n",
    "                                    warm_start=True)\n",
    "\n",
    "for i in range(ntree):\n",
    "    growing_rf.fit(x_train, y_train)\n",
    "    errors.append(1 - growing_rf.oob_score_)\n",
    "    growing_rf.n_estimators += 1\n",
    "\n",
    "plt.plot(np.r_[1:ntree + 1], errors, \"-b\") \n",
    "axs = plt.gca() # get current axis\n",
    "axs.set_xlim([0, 21])\n",
    "# axs.set_xticks([1] + [i * 5 for i in range(1,5)])   \n",
    "plt.xlabel(\"Number of trees\")\n",
    "plt.ylabel(\"OOB error rate\")\n",
    "plt.show()   "
   ]
  }
 ],
 "metadata": {
  "anaconda-cloud": {},
  "kernelspec": {
   "display_name": "Python [Root]",
   "language": "python",
   "name": "Python [Root]"
  },
  "language_info": {
   "codemirror_mode": {
    "name": "ipython",
    "version": 2
   },
   "file_extension": ".py",
   "mimetype": "text/x-python",
   "name": "python",
   "nbconvert_exporter": "python",
   "pygments_lexer": "ipython2",
   "version": "2.7.12"
  }
 },
 "nbformat": 4,
 "nbformat_minor": 0
}
