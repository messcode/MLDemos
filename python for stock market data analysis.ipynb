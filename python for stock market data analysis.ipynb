{
 "cells": [
  {
   "cell_type": "markdown",
   "metadata": {
    "slideshow": {
     "slide_type": "-"
    }
   },
   "source": [
    "<center>\n",
    "<h1> Python股票数据分析</h1>\n",
    "<hr style=\"height:4px;border:true;color:#333;background-color:#1974D2;\" />\n",
    "<h2>Chihao Zhang</h2>\n",
    "<h3>zhangchihao11@outlook.com<h3>\n",
    "<h3>November 2017</h3>\n",
    "</center>"
   ]
  },
  {
   "cell_type": "markdown",
   "metadata": {
    "slideshow": {
     "slide_type": "slide"
    }
   },
   "source": [
    "# 引言\n",
    "\n",
    "* Python 是 Guido van Rossum 在1989年圣诞节期间，为了打发无聊的圣诞节而编写的一个编程语言。\n",
    "\n",
    "    * Guido 给 Python 的定位是 **优雅**、**明确**、**简单**。\n",
    "\n",
    "* Python 为我们提供了非常完善的基础代码库。 除此之外， Python 还有大量第三方库。\n",
    "* 近年来，Python 由于上手容易，语法简洁，在机器学习和数据挖掘领域受到越来越多的关注。"
   ]
  },
  {
   "cell_type": "markdown",
   "metadata": {
    "slideshow": {
     "slide_type": "subslide"
    }
   },
   "source": [
    "<center>\n",
    "<img src=\"./figs/mlpl.png\">\n",
    "</center>\n",
    "<li id=\"f1\">Source: https://www.indeed.com/jobtrends/ [↩](#a1)</li>  "
   ]
  },
  {
   "cell_type": "markdown",
   "metadata": {
    "slideshow": {
     "slide_type": "slide"
    }
   },
   "source": [
    "# 报告提纲\n",
    "\n",
    "1. Python基础\n",
    "2. Python 常用库\n",
    "2. 双均线策略\n",
    "3. 回测策略——JoinQuant为例\n",
    "\n"
   ]
  },
  {
   "cell_type": "markdown",
   "metadata": {
    "slideshow": {
     "slide_type": "slide"
    }
   },
   "source": [
    "# Python 基础\n",
    "* Python  是一门面向对象，大小写敏感，隐式类型 (变量不需要声明类型) 的编程语言。\n",
    "* Python 目前流行的版本为2.x 版本和 3.x 版本。2.x 和 3.x 版本不完全兼容。目前大量的代码和库都是基于 2.x 的，但是越来越多的第三方库也开始支持 3.x。今天我们介绍的是 2.x 版本。\n",
    "* 推荐工具 文本编辑器 (VS code, notepad++, sublime text etc.) + ipython (调试） + ipython notebook （可视化）"
   ]
  },
  {
   "cell_type": "markdown",
   "metadata": {
    "slideshow": {
     "slide_type": "subslide"
    }
   },
   "source": [
    "# 获取帮助\n",
    "* `help(<object>)`: 获取帮助文档.\n",
    "* `dir()`: 显示对象 (object) 的所有方法 (method).\n",
    "* `<object>.__doc__`: 显示对象的文档."
   ]
  },
  {
   "cell_type": "code",
   "execution_count": 3,
   "metadata": {
    "slideshow": {
     "slide_type": "subslide"
    }
   },
   "outputs": [
    {
     "name": "stdout",
     "output_type": "stream",
     "text": [
      "Help on built-in function abs in module __builtin__:\n",
      "\n",
      "abs(...)\n",
      "    abs(number) -> number\n",
      "    \n",
      "    Return the absolute value of the argument.\n",
      "\n"
     ]
    }
   ],
   "source": [
    "# Help on int object\n",
    "help(abs)"
   ]
  },
  {
   "cell_type": "code",
   "execution_count": 6,
   "metadata": {
    "slideshow": {
     "slide_type": "fragment"
    }
   },
   "outputs": [
    {
     "data": {
      "text/plain": [
       "'abs(number) -> number\\n\\nReturn the absolute value of the argument.'"
      ]
     },
     "execution_count": 6,
     "metadata": {},
     "output_type": "execute_result"
    }
   ],
   "source": [
    "abs.__doc__"
   ]
  },
  {
   "cell_type": "code",
   "execution_count": 7,
   "metadata": {
    "slideshow": {
     "slide_type": "fragment"
    }
   },
   "outputs": [
    {
     "data": {
      "text/plain": [
       "['__call__',\n",
       " '__class__',\n",
       " '__cmp__',\n",
       " '__delattr__',\n",
       " '__doc__',\n",
       " '__eq__',\n",
       " '__format__',\n",
       " '__ge__',\n",
       " '__getattribute__',\n",
       " '__gt__',\n",
       " '__hash__',\n",
       " '__init__',\n",
       " '__le__',\n",
       " '__lt__',\n",
       " '__module__',\n",
       " '__name__',\n",
       " '__ne__',\n",
       " '__new__',\n",
       " '__reduce__',\n",
       " '__reduce_ex__',\n",
       " '__repr__',\n",
       " '__self__',\n",
       " '__setattr__',\n",
       " '__sizeof__',\n",
       " '__str__',\n",
       " '__subclasshook__']"
      ]
     },
     "execution_count": 7,
     "metadata": {},
     "output_type": "execute_result"
    }
   ],
   "source": [
    "dir(abs)"
   ]
  },
  {
   "cell_type": "markdown",
   "metadata": {
    "collapsed": true,
    "slideshow": {
     "slide_type": "subslide"
    }
   },
   "source": [
    "# 语法\n",
    "* **代码块**: Python 的代码块通过缩进 (indent) 定义, 用冒号开始。\n",
    "* **注释**:\n",
    "    * 单行注释 `#`\n",
    "    * 多行注释 `\"\"\" XXX \"\"\" `\n",
    "* **运算符**: \n",
    "    * 赋值 `=`, `+=`, `-=`\n",
    "    * 比较 `<`, `>`, `==`"
   ]
  },
  {
   "cell_type": "code",
   "execution_count": 13,
   "metadata": {
    "slideshow": {
     "slide_type": "subslide"
    }
   },
   "outputs": [
    {
     "name": "stdout",
     "output_type": "stream",
     "text": [
      "4\n",
      "Hello world!\n",
      "Now mystring =  4\n",
      "Now myvar =  Hello world!\n"
     ]
    }
   ],
   "source": [
    "# 代码示例\n",
    "myvar = 3\n",
    "myvar += 2\n",
    "myvar -= 1\n",
    "print myvar\n",
    "\"\"\"\n",
    "这里是多行注释。\n",
    "字符串也支持加法预算。\n",
    "\"\"\"\n",
    "mystring = \"Hello\"\n",
    "mystring += \" world!\"\n",
    "print mystring\n",
    "# 交换两个变量的值\n",
    "myvar, mystring = mystring, myvar\n",
    "print \"Now mystring = \", mystring\n",
    "print \"Now myvar = \", myvar"
   ]
  },
  {
   "cell_type": "markdown",
   "metadata": {
    "slideshow": {
     "slide_type": "subslide"
    }
   },
   "source": [
    "# 数据类型\n",
    "Python 内置数据类型:\n",
    "* 列表 (list): 有序集合，元素类型可以不一致，可以随时添加和删除其中的元素。\n",
    "* 元组 (tuple): 有序集合，和 list 类似, 初始化后**不能修改**。\n",
    "* 字典 (dictionary): 无序集合，，使用键-值（key-value）存储，具有极快的查找速度。\n",
    "* 集合 (set): 是一组key的集合，但不存储value。由于key**不能重复**，所以，在set中，没有重复的key。"
   ]
  },
  {
   "cell_type": "code",
   "execution_count": 21,
   "metadata": {
    "slideshow": {
     "slide_type": "subslide"
    }
   },
   "outputs": [
    {
     "name": "stdout",
     "output_type": "stream",
     "text": [
      "# elements of my list: 3\n",
      "# elements of my dictionary: 3\n",
      "# elements of my tuple: 3\n"
     ]
    }
   ],
   "source": [
    "# 列表\n",
    "sample = [1, [\"another\", \"list\"], (\"a\", \"tuple\")]\n",
    "mylist = [\"List item 1\", 2, 3.14]\n",
    "mylist[0] = \"List item 1 again\" # 改变list中的第一个元素，注意index是从0开始计数的\n",
    "mylist[-1] = 3.21 # 改变最后一个元素\n",
    "# 字典\n",
    "mydict = {\"Key 1\": \"Value 1\", 2: 3, \"pi\": 3.14}\n",
    "mydict[\"pi\"] = 3.15 # 改变字典中的值\n",
    "# 元组\n",
    "mytuple = (1, 2, 3)\n",
    "print \"# elements of my list:\", len(mylist) # 元素个数\n",
    "print \"# elements of my dictionary:\", len(mydict) \n",
    "print \"# elements of my tuple:\", len(mytuple)"
   ]
  },
  {
   "cell_type": "code",
   "execution_count": 41,
   "metadata": {
    "slideshow": {
     "slide_type": "subslide"
    }
   },
   "outputs": [
    {
     "name": "stdout",
     "output_type": "stream",
     "text": [
      "['List item 1', 2, 3.14]\n"
     ]
    }
   ],
   "source": [
    "# 索引 (index) 和切片 (slice)\n",
    "mylist = [\"List item 1\", 2, 3.14]\n",
    "# 所有元素\n",
    "print(mylist[:])"
   ]
  },
  {
   "cell_type": "code",
   "execution_count": 42,
   "metadata": {
    "slideshow": {
     "slide_type": "fragment"
    }
   },
   "outputs": [
    {
     "name": "stdout",
     "output_type": "stream",
     "text": [
      "['List item 1', 2]\n"
     ]
    }
   ],
   "source": [
    "# 前两个元素，起始索引默认为0\n",
    "print mylist[:2]"
   ]
  },
  {
   "cell_type": "code",
   "execution_count": 43,
   "metadata": {
    "slideshow": {
     "slide_type": "fragment"
    }
   },
   "outputs": [
    {
     "name": "stdout",
     "output_type": "stream",
     "text": [
      "[2, 3.14]\n"
     ]
    }
   ],
   "source": [
    "# 最后两个元素\n",
    "print  mylist[-2:]"
   ]
  },
  {
   "cell_type": "code",
   "execution_count": 38,
   "metadata": {
    "collapsed": true,
    "slideshow": {
     "slide_type": "subslide"
    }
   },
   "outputs": [],
   "source": [
    "# range(start, end, [step) 生成序列\n",
    "mylist = range(1, 10)"
   ]
  },
  {
   "cell_type": "code",
   "execution_count": 37,
   "metadata": {
    "slideshow": {
     "slide_type": "fragment"
    }
   },
   "outputs": [
    {
     "name": "stdout",
     "output_type": "stream",
     "text": [
      "Help on built-in function range in module __builtin__:\n",
      "\n",
      "range(...)\n",
      "    range(stop) -> list of integers\n",
      "    range(start, stop[, step]) -> list of integers\n",
      "    \n",
      "    Return a list containing an arithmetic progression of integers.\n",
      "    range(i, j) returns [i, i+1, i+2, ..., j-1]; start (!) defaults to 0.\n",
      "    When step is given, it specifies the increment (or decrement).\n",
      "    For example, range(4) returns [0, 1, 2, 3].  The end point is omitted!\n",
      "    These are exactly the valid indices for a list of 4 elements.\n",
      "\n"
     ]
    }
   ],
   "source": [
    "help(range)"
   ]
  },
  {
   "cell_type": "code",
   "execution_count": 36,
   "metadata": {
    "slideshow": {
     "slide_type": "fragment"
    }
   },
   "outputs": [
    {
     "name": "stdout",
     "output_type": "stream",
     "text": [
      "mylist:  [1, 2, 3, 4, 5, 6, 7, 8, 9]\n",
      "Odd element:  [1, 3, 5, 7, 9]\n",
      "Even element:  [2, 4, 6, 8]\n"
     ]
    }
   ],
   "source": [
    "print \"mylist: \", mylist\n",
    "# 选取奇数元素\n",
    "print \"Odd element: \", mylist[::2]\n",
    "# 选取偶数元素\n",
    "print \"Even element: \", mylist[1::2]"
   ]
  },
  {
   "cell_type": "markdown",
   "metadata": {
    "slideshow": {
     "slide_type": "subslide"
    }
   },
   "source": [
    "## 打印和字符串\n",
    "* 字符串使用**单引号或者双引号**。多行字符串使用三个单引号。\n",
    "``` python\n",
    "\"\"\" This is a mulitline\n",
    "    string.\"\"\"\n",
    "```\n",
    "* 格式化字符串，与C语言类似。。"
   ]
  },
  {
   "cell_type": "code",
   "execution_count": 48,
   "metadata": {
    "slideshow": {
     "slide_type": "fragment"
    }
   },
   "outputs": [
    {
     "name": "stdout",
     "output_type": "stream",
     "text": [
      "Age: 25. Gender: True\n",
      "pi = 3.14\n"
     ]
    }
   ],
   "source": [
    "print 'Age: %d. Gender: %s' % (25, True) # 用 % 隔开 元组\n",
    "print \"pi = %.2f\" % 3.1415"
   ]
  },
  {
   "cell_type": "markdown",
   "metadata": {
    "slideshow": {
     "slide_type": "-"
    }
   },
   "source": [
    "- `%d` 整数, `%f` 浮点数, `%s` 字符串, `%x` 十六进制整数\n"
   ]
  },
  {
   "cell_type": "markdown",
   "metadata": {
    "slideshow": {
     "slide_type": "subslide"
    }
   },
   "source": [
    "# 流控制语句 (Flow control statements)\n",
    "流控制语句包括 `if`, `for` 和 `while`。没有 `switch`语句。\n",
    "``` python\n",
    "rangelist = range(10)\n",
    "for number in rangelist:\n",
    "    if number in (3, 4, 7, 9):\n",
    "        break # 跳出循环\n",
    "    elif number == 2:\n",
    "        print number\n",
    "    else:\n",
    "        continue # 进行下一次迭代\n",
    "while rangelist[1] == 1:\n",
    "    pass\n",
    "```"
   ]
  },
  {
   "cell_type": "markdown",
   "metadata": {
    "slideshow": {
     "slide_type": "subslide"
    }
   },
   "source": [
    "# 函数\n",
    "``` python\n",
    "def passing_example(a_list, an_int=2, a_string=\"A default string\"):\n",
    "    a_list.append(\"A new item\")\n",
    "    an_int = 4\n",
    "    return a_list, an_int, a_string\n",
    "```\n",
    "* **声明:** 函数通过关键词 `def` 声明， 依次写出函数名、括号、括号中的参数和冒号`:`\n",
    "    * 位置参数\n",
    "    * 关键字参数: 必须在位置参数后面\n",
    "* **函数体**： 在缩进块中编写函数体\n",
    "* **返回值**： 函数的返回值用 `return`, 返回元组 (tuple)\n",
    "* **匿名函数**: 方便地定义简单的函数。"
   ]
  },
  {
   "cell_type": "code",
   "execution_count": 4,
   "metadata": {
    "slideshow": {
     "slide_type": "subslide"
    }
   },
   "outputs": [
    {
     "name": "stdout",
     "output_type": "stream",
     "text": [
      "2\n"
     ]
    }
   ],
   "source": [
    "# 匿名函数\n",
    "funcvar = lambda x: x + 1\n",
    "print funcvar(1)\n",
    "# an_int 和 a_string 是可选参数\n",
    "def passing_example(a_list, an_int=2, a_string=\"A default string\"):\n",
    "    a_list.append(\"A new item\")\n",
    "    an_int = 4\n",
    "    return a_list, an_int, a_string"
   ]
  },
  {
   "cell_type": "code",
   "execution_count": 5,
   "metadata": {
    "slideshow": {
     "slide_type": "fragment"
    }
   },
   "outputs": [
    {
     "name": "stdout",
     "output_type": "stream",
     "text": [
      "([1, 2, 3, 'A new item'], 4, 'A default string')\n"
     ]
    }
   ],
   "source": [
    "my_list = [1, 2, 3]\n",
    "my_int = 10\n",
    "print passing_example(my_list, my_int)"
   ]
  },
  {
   "cell_type": "markdown",
   "metadata": {
    "slideshow": {
     "slide_type": "subslide"
    }
   },
   "source": [
    "# 面向对象编程: 类 (class)\n",
    "面向对象最重要的概念就是类（Class）和实例（Instance），必须牢记类是抽象的模板，比如Student类，而实例是根据类创建出来的一个个具体的“对象”，每个对象都拥有相同的方法，但各自的数据可能不同。"
   ]
  },
  {
   "cell_type": "markdown",
   "metadata": {
    "slideshow": {
     "slide_type": "subslide"
    }
   },
   "source": [
    "<center>\n",
    "<img src=\"./figs/classes_instances.png\">\n",
    "</center>"
   ]
  },
  {
   "cell_type": "code",
   "execution_count": 30,
   "metadata": {
    "slideshow": {
     "slide_type": "subslide"
    }
   },
   "outputs": [
    {
     "name": "stdout",
     "output_type": "stream",
     "text": [
      "2\n"
     ]
    }
   ],
   "source": [
    "class MyClass(object):\n",
    "    common = 10  # common 是类的一个共享参数\n",
    "    def __init__(self, var):\n",
    "        \"\"\"\n",
    "        进行类的实例化\n",
    "        \"\"\"\n",
    "        self.myvariable = var + 1\n",
    "    def myfunction(self, arg1, arg2):\n",
    "        \"\"\"\n",
    "        这是类的一个方法 (method)。\n",
    "        参数self代表的是类的实例\n",
    "        \"\"\"\n",
    "        return self.myvariable\n",
    "classinstance = MyClass(1) # 实例化\n",
    "print classinstance.myfunction(1, 2) # 方法通过 instance.method_name() 调用"
   ]
  },
  {
   "cell_type": "code",
   "execution_count": 21,
   "metadata": {
    "slideshow": {
     "slide_type": "subslide"
    }
   },
   "outputs": [
    {
     "name": "stdout",
     "output_type": "stream",
     "text": [
      "50\n",
      "5\n"
     ]
    }
   ],
   "source": [
    "classinstance = MyClass(1)\n",
    "classinstance2 = MyClass(2)\n",
    "# 改变实例的\n",
    "classinstance.common = 50\n",
    "print classinstance.common\n",
    "print classinstance2.common"
   ]
  },
  {
   "cell_type": "code",
   "execution_count": 20,
   "metadata": {
    "slideshow": {
     "slide_type": "fragment"
    }
   },
   "outputs": [
    {
     "name": "stdout",
     "output_type": "stream",
     "text": [
      "5\n",
      "5\n"
     ]
    }
   ],
   "source": [
    "MyClass.common = 5\n",
    "classinstance = MyClass()\n",
    "classinstance2 = MyClass()\n",
    "print classinstance.common\n",
    "print classinstance2.common"
   ]
  },
  {
   "cell_type": "markdown",
   "metadata": {
    "slideshow": {
     "slide_type": "subslide"
    }
   },
   "source": [
    "- 安装包 (library).\n",
    "``` shell\n",
    "# pip\n",
    "pip install [pakage name]\n",
    "# anaconda\n",
    "conda install [package name]\n",
    "```\n",
    "- 需要安装包管理器 (pip, conda etc)"
   ]
  },
  {
   "cell_type": "markdown",
   "metadata": {
    "slideshow": {
     "slide_type": "slide"
    }
   },
   "source": [
    "# Numpy 简介\n",
    "NumPy的全名为Numeric Python，是一个开源的Python科学计算库，它包括：\n",
    "- 一个强大的N维数组对象ndrray；\n",
    "- 比较成熟的（广播）函数库；\n",
    "- 用于整合C/C++和Fortran代码的工具包；\n",
    "- 实用的线性代数、傅里叶变换和随机数生成函数\n",
    "- 能够像在matlab中一样进行方便的矩阵运算"
   ]
  },
  {
   "cell_type": "code",
   "execution_count": null,
   "metadata": {
    "collapsed": true,
    "slideshow": {
     "slide_type": "subslide"
    }
   },
   "outputs": [],
   "source": [
    "import numpy as np\n",
    "a = np.array([1, 2, 3])   # Create a rank 1 array\n",
    "print(type(a))            # Prints \"<class 'numpy.ndarray'>\"\n",
    "print(a.shape)            # Prints \"(3,)\"\n",
    "print(a[0], a[1], a[2])   # Prints \"1 2 3\"\n",
    "a[0] = 5                  # Change an element of the array\n",
    "print(a)                  # Prints \"[5, 2, 3]\"\n",
    "\n",
    "b = np.array([[1,2,3],[4,5,6]])    # Create a rank 2 array\n",
    "print(b.shape)                     # Prints \"(2, 3)\"\n",
    "print(b[0, 0], b[0, 1], b[1, 0])   # Prints \"1 2 4\""
   ]
  },
  {
   "cell_type": "code",
   "execution_count": 3,
   "metadata": {
    "slideshow": {
     "slide_type": "subslide"
    }
   },
   "outputs": [
    {
     "name": "stdout",
     "output_type": "stream",
     "text": [
      "(array([5, 6, 7, 8]), (4,))\n",
      "(array([[5, 6, 7, 8]]), (1, 4))\n"
     ]
    }
   ],
   "source": [
    "a = np.array([[1,2,3,4], [5,6,7,8], [9,10,11,12]])\n",
    "\n",
    "# Two ways of accessing the data in the middle row of the array.\n",
    "# Mixing integer indexing with slices yields an array of lower rank,\n",
    "# while using only slices yields an array of the same rank as the\n",
    "# original array:\n",
    "row_r1 = a[1, :]    # Rank 1 view of the second row of a\n",
    "row_r2 = a[1:2, :]  # Rank 2 view of the second row of a\n",
    "print(row_r1, row_r1.shape)  # Prints \"[5 6 7 8] (4,)\"\n",
    "print(row_r2, row_r2.shape)  # Prints \"[[5 6 7 8]] (1, 4)\""
   ]
  },
  {
   "cell_type": "markdown",
   "metadata": {
    "slideshow": {
     "slide_type": "subslide"
    }
   },
   "source": [
    "# Pandas 简介\n",
    "Pandas最初被作为金融数据分析工具而开发出来:\n",
    "- pandas为时间序列分析提供了很好的支持\n",
    "- Pandas的名称来自于面板数据（panel data）和python数据分析（data analysis)。"
   ]
  },
  {
   "cell_type": "markdown",
   "metadata": {
    "slideshow": {
     "slide_type": "subslide"
    }
   },
   "source": [
    "# Pandas中的数据结构\n",
    "- **Series**：一维数组，与Numpy中的一维array类似。二者与Python基本的数据结构List也很相近，其区别是：List中的元素可以是不同的数据类型，而Array和Series中则只允许存储相同的数据类型，这样可以更有效的使用内存，提高运算效率。\n",
    "    - **Time-Series**：以时间为索引的Series。\n",
    "\n",
    "- **DataFrame**：二维的表格型数据结构。很多功能与R中的data.frame类似。可以将DataFrame理解为Series的容器。以下的内容主要以DataFrame为主。"
   ]
  },
  {
   "cell_type": "code",
   "execution_count": 10,
   "metadata": {
    "slideshow": {
     "slide_type": "subslide"
    }
   },
   "outputs": [
    {
     "data": {
      "text/html": [
       "<div>\n",
       "<style>\n",
       "    .dataframe thead tr:only-child th {\n",
       "        text-align: right;\n",
       "    }\n",
       "\n",
       "    .dataframe thead th {\n",
       "        text-align: left;\n",
       "    }\n",
       "\n",
       "    .dataframe tbody tr th {\n",
       "        vertical-align: top;\n",
       "    }\n",
       "</style>\n",
       "<table border=\"1\" class=\"dataframe\">\n",
       "  <thead>\n",
       "    <tr style=\"text-align: right;\">\n",
       "      <th></th>\n",
       "      <th>one</th>\n",
       "      <th>two</th>\n",
       "    </tr>\n",
       "  </thead>\n",
       "  <tbody>\n",
       "    <tr>\n",
       "      <th>a</th>\n",
       "      <td>1.0</td>\n",
       "      <td>1.0</td>\n",
       "    </tr>\n",
       "    <tr>\n",
       "      <th>b</th>\n",
       "      <td>2.0</td>\n",
       "      <td>2.0</td>\n",
       "    </tr>\n",
       "    <tr>\n",
       "      <th>c</th>\n",
       "      <td>3.0</td>\n",
       "      <td>3.0</td>\n",
       "    </tr>\n",
       "    <tr>\n",
       "      <th>d</th>\n",
       "      <td>NaN</td>\n",
       "      <td>4.0</td>\n",
       "    </tr>\n",
       "  </tbody>\n",
       "</table>\n",
       "</div>"
      ],
      "text/plain": [
       "   one  two\n",
       "a  1.0  1.0\n",
       "b  2.0  2.0\n",
       "c  3.0  3.0\n",
       "d  NaN  4.0"
      ]
     },
     "execution_count": 10,
     "metadata": {},
     "output_type": "execute_result"
    }
   ],
   "source": [
    "import pandas as pd\n",
    "d = {'one' : pd.Series([1., 2., 3.], index=['a', 'b', 'c']),'two' : pd.Series([1., 2., 3., 4.], index=['a', 'b', 'c', 'd'])}\n",
    "df = pd.DataFrame(d)\n",
    "df.head()"
   ]
  },
  {
   "cell_type": "markdown",
   "metadata": {
    "slideshow": {
     "slide_type": "subslide"
    }
   },
   "source": [
    "# 导入数据"
   ]
  },
  {
   "cell_type": "code",
   "execution_count": 2,
   "metadata": {},
   "outputs": [
    {
     "data": {
      "text/html": [
       "<div>\n",
       "<style>\n",
       "    .dataframe thead tr:only-child th {\n",
       "        text-align: right;\n",
       "    }\n",
       "\n",
       "    .dataframe thead th {\n",
       "        text-align: left;\n",
       "    }\n",
       "\n",
       "    .dataframe tbody tr th {\n",
       "        vertical-align: top;\n",
       "    }\n",
       "</style>\n",
       "<table border=\"1\" class=\"dataframe\">\n",
       "  <thead>\n",
       "    <tr style=\"text-align: right;\">\n",
       "      <th></th>\n",
       "      <th>代码</th>\n",
       "      <th>名称</th>\n",
       "      <th>时间</th>\n",
       "      <th>开盘价</th>\n",
       "      <th>收盘价</th>\n",
       "      <th>最高价</th>\n",
       "      <th>最低价</th>\n",
       "      <th>成交量</th>\n",
       "      <th>成交金额</th>\n",
       "    </tr>\n",
       "  </thead>\n",
       "  <tbody>\n",
       "    <tr>\n",
       "      <th>0</th>\n",
       "      <td>SZ000001</td>\n",
       "      <td>平安银行</td>\n",
       "      <td>2015-09-28</td>\n",
       "      <td>10.56</td>\n",
       "      <td>10.53</td>\n",
       "      <td>10.59</td>\n",
       "      <td>10.43</td>\n",
       "      <td>19908727</td>\n",
       "      <td>2.091862e+08</td>\n",
       "    </tr>\n",
       "    <tr>\n",
       "      <th>1</th>\n",
       "      <td>SZ000001</td>\n",
       "      <td>平安银行</td>\n",
       "      <td>2015-09-29</td>\n",
       "      <td>10.45</td>\n",
       "      <td>10.38</td>\n",
       "      <td>10.56</td>\n",
       "      <td>10.32</td>\n",
       "      <td>33360356</td>\n",
       "      <td>3.476123e+08</td>\n",
       "    </tr>\n",
       "    <tr>\n",
       "      <th>2</th>\n",
       "      <td>SZ000001</td>\n",
       "      <td>平安银行</td>\n",
       "      <td>2015-09-30</td>\n",
       "      <td>10.40</td>\n",
       "      <td>10.49</td>\n",
       "      <td>10.59</td>\n",
       "      <td>10.39</td>\n",
       "      <td>36465973</td>\n",
       "      <td>3.832302e+08</td>\n",
       "    </tr>\n",
       "    <tr>\n",
       "      <th>3</th>\n",
       "      <td>SZ000001</td>\n",
       "      <td>平安银行</td>\n",
       "      <td>2015-10-08</td>\n",
       "      <td>10.85</td>\n",
       "      <td>10.70</td>\n",
       "      <td>10.89</td>\n",
       "      <td>10.70</td>\n",
       "      <td>49407085</td>\n",
       "      <td>5.338061e+08</td>\n",
       "    </tr>\n",
       "    <tr>\n",
       "      <th>4</th>\n",
       "      <td>SZ000001</td>\n",
       "      <td>平安银行</td>\n",
       "      <td>2015-10-09</td>\n",
       "      <td>10.75</td>\n",
       "      <td>10.90</td>\n",
       "      <td>10.95</td>\n",
       "      <td>10.72</td>\n",
       "      <td>47461206</td>\n",
       "      <td>5.163105e+08</td>\n",
       "    </tr>\n",
       "  </tbody>\n",
       "</table>\n",
       "</div>"
      ],
      "text/plain": [
       "         代码    名称          时间    开盘价    收盘价    最高价    最低价       成交量  \\\n",
       "0  SZ000001  平安银行  2015-09-28  10.56  10.53  10.59  10.43  19908727   \n",
       "1  SZ000001  平安银行  2015-09-29  10.45  10.38  10.56  10.32  33360356   \n",
       "2  SZ000001  平安银行  2015-09-30  10.40  10.49  10.59  10.39  36465973   \n",
       "3  SZ000001  平安银行  2015-10-08  10.85  10.70  10.89  10.70  49407085   \n",
       "4  SZ000001  平安银行  2015-10-09  10.75  10.90  10.95  10.72  47461206   \n",
       "\n",
       "           成交金额  \n",
       "0  2.091862e+08  \n",
       "1  3.476123e+08  \n",
       "2  3.832302e+08  \n",
       "3  5.338061e+08  \n",
       "4  5.163105e+08  "
      ]
     },
     "execution_count": 2,
     "metadata": {},
     "output_type": "execute_result"
    }
   ],
   "source": [
    "import pandas as pd\n",
    "# 从csv文件导入\n",
    "stock_df1 = pd.read_csv('test-payh.csv') # import csv as\n",
    "# 从xlsx文件导入\n",
    "stock_df2 = pd.read_excel('test-payh.xlsx')\n",
    "stock_df2.head()"
   ]
  },
  {
   "cell_type": "markdown",
   "metadata": {
    "slideshow": {
     "slide_type": "slide"
    }
   },
   "source": [
    "# 双均线策略"
   ]
  },
  {
   "cell_type": "markdown",
   "metadata": {
    "slideshow": {
     "slide_type": "subslide"
    }
   },
   "source": [
    "# 双均线策略\n",
    "通过建立 `m` 天移动平均线，`n` 天移动平均 (move average) 线。 \n",
    "* `m` > `n`\n",
    "* 买入信号: 短期均线高于长期日均线，并且超过 SD 个点位\n",
    "* 卖出信号： 不满足买入信号的所有情况"
   ]
  },
  {
   "cell_type": "code",
   "execution_count": 83,
   "metadata": {
    "slideshow": {
     "slide_type": "subslide"
    }
   },
   "outputs": [
    {
     "name": "stdout",
     "output_type": "stream",
     "text": [
      "Int64Index([ 29,  30,  31,  32,  33,  34,  35,  36, 435, 436, 437, 438, 439,\n",
      "            440, 441, 442, 443, 444, 445, 446, 447, 448, 449, 450, 451, 452,\n",
      "            453, 454, 472, 473, 474, 475, 476, 477],\n",
      "           dtype='int64')\n",
      "df shape: (488, 9)\n",
      "mv5:  (488,) mv30: (488,)\n",
      "0     NaN\n",
      "1     NaN\n",
      "2     NaN\n",
      "3     NaN\n",
      "4    10.6\n",
      "Name: close, dtype: float64\n"
     ]
    }
   ],
   "source": [
    "import pandas as pd\n",
    "# 从csv文件导入\n",
    "df = pd.read_csv('test-payh.csv') # import csv as\n",
    "df.columns = ['symbol', 'name', 'date', 'open', 'close', 'high', 'low', 'volume', 'value']\n",
    "# 计算滑动平均\n",
    "mv5 = df.close.rolling(window=5).meanprint plot_buy_chance()\n",
    "mv30 = df.close.rolling(window=30).mean()\n",
    "# 计算买入点位\n",
    "SD = 0.05\n",
    "is_buy = (mv5 - mv30) / mv30 > SD\n",
    "buy_chance = is_buy.index[is_buy]\n",
    "print \"df shape:\", df.shape\n",
    "print \"mv5: \", mv5.shape, \"mv30:\", mv30.shape\n",
    "print mv5[:5]"
   ]
  },
  {
   "cell_type": "code",
   "execution_count": 89,
   "metadata": {
    "slideshow": {
     "slide_type": "notes"
    }
   },
   "outputs": [],
   "source": [
    "plot_buy_chance = [buy_chance[0]]\n",
    "for idx in range(1, len(buy_chance)):\n",
    "    if buy_chance[idx] - buy_chance[idx-1] < 2:\n",
    "        continue\n",
    "    else:\n",
    "        plot_buy_chance.append(buy_chance[idx])"
   ]
  },
  {
   "cell_type": "code",
   "execution_count": 92,
   "metadata": {
    "slideshow": {
     "slide_type": "subslide"
    }
   },
   "outputs": [
    {
     "data": {
      "text/plain": [
       "<matplotlib.legend.Legend at 0x7f9849b33710>"
      ]
     },
     "execution_count": 92,
     "metadata": {},
     "output_type": "execute_result"
    },
    {
     "data": {
      "image/png": "[encoded data removed]",
      "text/plain": [
       "<matplotlib.figure.Figure at 0x7f9849badcd0>"
      ]
     },
     "metadata": {},
     "output_type": "display_data"
    }
   ],
   "source": [
    "# plot move average line\n",
    "import matplotlib.pyplot as plt \n",
    "# show figure inline\n",
    "% matplotlib inline \n",
    "plt.plot(mv5, color='r', label='5 days MA')\n",
    "plt.plot(mv30, color='b', label='30 days MA')\n",
    "# plot buy chance\n",
    "for idx in plot_buy_chance:\n",
    "    plt.axvline(x=idx, alpha=.75) # plot vertical line\n",
    "plt.legend()"
   ]
  },
  {
   "cell_type": "markdown",
   "metadata": {
    "slideshow": {
     "slide_type": "slide"
    }
   },
   "source": [
    "# 回测策略——JoinQuant为例"
   ]
  },
  {
   "cell_type": "markdown",
   "metadata": {
    "slideshow": {
     "slide_type": "slide"
    }
   },
   "source": [
    "# 参考资料\n",
    "* [廖雪峰Python教程](https://www.liaoxuefeng.com/wiki/001374738125095c955c1e6d8bb493182103fac9270762a000)\n",
    "*  Learning python in 10 minutes: https://www.stavros.io/tutorials/python/\n",
    "* 《利用Python进行数据分析》，机械工业出版社, Wes McKinney, 唐学韬(译)\n",
    "*  公开课：EDX [Introduction to Computer Science and Programming Using Python]\n",
    "(https://www.edx.org/course/introduction-computer-science-mitx-6-00-1x-11)\n",
    "* Learn pandas in 10 minutes: http://pandas.pydata.org/pandas-docs/stable/10min.html\n",
    "* Package:\n",
    "    - pandas: http://pandas.pydata.org/ \n",
    "    - numpy:  http://www.numpy.org/ \n",
    "    - matplotlib 画图\n"
   ]
  }
 ],
 "metadata": {
  "celltoolbar": "Slideshow",
  "kernelspec": {
   "display_name": "Python 2",
   "language": "python",
   "name": "python2"
  },
  "language_info": {
   "codemirror_mode": {
    "name": "ipython",
    "version": 2
   },
   "file_extension": ".py",
   "mimetype": "text/x-python",
   "name": "python",
   "nbconvert_exporter": "python",
   "pygments_lexer": "ipython2",
   "version": "2.7.13"
  }
 },
 "nbformat": 4,
 "nbformat_minor": 2
}
